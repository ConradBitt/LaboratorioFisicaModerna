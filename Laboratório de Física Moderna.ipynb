{
 "cells": [
  {
   "cell_type": "markdown",
   "metadata": {},
   "source": [
    "# Laboratório de Física Moderna\n",
    "\n",
    "1. Radiação de Corpo Negro, simulador\n",
    "\n",
    "2. Experimento de Stern Gerlach; Simulador \n",
    "\n",
    "3. Experimento de Stern Gerlach parte II; Simulador \n",
    "\n",
    "# 1) Radiação de Corpo Negro  \n",
    "\n",
    "### 1.1) Radiação Termica \n",
    "\n",
    "A radiação emitida por um compor devido a sua temperatura é chamada de radiação termica. Todo corpo emite esse tipo de radiação para o meio que o cerca, ele a absorve. Se um corpo esta inicialmente mais quante do que o meio, ele irá se esfriar, porque a **a taxa de emissão de energia excede a taxa de absorção.** Quando o equilibrio termico é atingido estas variações são iguais.\n",
    "\n",
    "A matéria em um estado condensado (líquido ou sólido) emite um espectro contínuo de radiação. Os detalhes deste espectro são praticamente independêntes do material particular do qual o corpo é composto, mas dependem bastante da temperatura. A temperaturas usuais, a maioria dos compors é visível para nós, não pela luz que emitem, mas pela luz que refletem. Se nenhuma luz incidir sobre eles, não podemos ver. A temperaturas muito altas, no entanto, os corpos tem luminosidade propria. Podemos ver brilhar num quarto escuro, mas mesmo a temperaturas da ordem de mihares de Kelvin, bem mais de 90% da radiação termica medida é invisível para nós, estando na região do infravermelho do espectro eletromagnético. **Portanto, corpos com luminosidade propria são mais quentes.**\n",
    "\n",
    "### 1.2) Corpos que não emitem luz ou Corpos Negros\n",
    "\n",
    "De maneira geral, a forma detahada do espectro da radiação térmica emitida por um corpo quente depende de algum modo da composição deste corpo. No enquanto, a experiência os mostra que há um tipo de corpo quente que emite espectros térmicos de carater universall. Estes corpos são chamados de **corpos negros, isto é corpos cuja superficies absorvem toda a radiação térmica incidente sobre eles. O nome apropriado porque esses corpos não refletem luz.**\n",
    "\n",
    "Em $1879$, Josef Stefan descobriu uma relação *empirica* entre potência por unidade de área irradiada por um corpo negro e a temperatura: $$R = \\sigma T^4, $$ em que $R$ é a potência irradiada por unidade de área, $T$ é a temperatura absoluta e $\\sigma = 5,6704\\times 10^{-8}W/m^{2}K^{4}$ é uma constante denominada de Stefan.\n",
    "\n",
    "<img src='./images/radiação_corpo_negro.jpg'>\n",
    "\n",
    "\n",
    "###  1.3) Lei de deslocamento de Wein\n",
    "\n",
    "As observações revelam que, da mesma forma que a potência total irradiada R, a distribuição espectral da radiação emitida por um corpo negro depende apenas da temperatura absoluta $T$. De forma esquemática, um dispositivo experimental usado para determinar a distribuição espectral foi ilustrado acima na **Figura 3-3**.\n",
    "\n",
    "A distribuição espectral da radiação do corpo negro é especificada pela quantidade $R_{T}(\\lambda)$, chamada radianção espectral, que é definida de forma que $R_{T}(\\lambda)d\\lambda$ seja igual a energia emitida por unidade de tempo em radiação de frequência compreendida no intervalo $\\lambda$ até $\\lambda+d\\lambda$ por unidade de área de uma superfície a temperatura absoluta $T$.\n",
    "\n",
    "A potência total irradiada a uma temperatura particular é dada simplemente pela área sob a curva para essa temperatura $$ {\\int_{0}^{\\infty}} {R_{T}(\\lambda)} d\\lambda,$$ já que $R_{T}(\\lambda)$ é a potência irradiada num intervalo de tempo de frequência de $\\lambda$ até $\\lambda+d\\lambda$.\n",
    "\n",
    "<img src='./images/espectro_radiaçao_termica.jpg'>\n",
    "\n",
    "As cursvas de $R_{T}(\\lambda)$ em função de $\\lambda$ da **Figura 3-4** apresentam várias propriedades interessantes. Uma que o comprimento de onda para o qual a radiação é máxima. Este resultado é conhecido como **Lei de Deslocamento de Wien** e foi obtido experimentalmente por Wien em $1893$.\n",
    "\n",
    "A lei de Wein é uma lei física que relaciona *comprimento de onda ($\\lambda$ [metros]) com a temperatura ( $T$ [Kelvin])*, onde se situa a máxima emissão de radiaao eletromagnética de corpo negro. $$\\lambda_{max} = \\frac{b}{T},$$ onde $b$ é conhecida como constante de dispersão de Wien: $b = 2.8977685\\times10^{-3}m.K$\n",
    "\n",
    "\n",
    "# 2) Os experimentos: \n",
    "\n",
    "Utilizando [Phet Interactive Simulations](https://phet.colorado.edu/sims/html/blackbody-spectrum/latest/blackbody-spectrum_pt_BR.html)\n",
    "\n",
    "### 2.1) Medir a lei de Wein\n",
    "Faça várias anotações para o comprimento de onda $\\lambda_{max}$ em metros e a temperatura $T$ em Kelvin,\n",
    "$$\\lambda_{max} = \\frac{b}{T},$$\n",
    "\n",
    "afim de analisar a constante de dispersão de Wien: $b = 2.8977685\\times10^{-3}m.K$"
   ]
  },
  {
   "cell_type": "code",
   "execution_count": 1,
   "metadata": {},
   "outputs": [],
   "source": [
    "import pandas as pd \n",
    "import numpy as np\n",
    "from matplotlib import pyplot as plt"
   ]
  },
  {
   "cell_type": "code",
   "execution_count": 2,
   "metadata": {},
   "outputs": [
    {
     "data": {
      "text/html": [
       "<div>\n",
       "<style scoped>\n",
       "    .dataframe tbody tr th:only-of-type {\n",
       "        vertical-align: middle;\n",
       "    }\n",
       "\n",
       "    .dataframe tbody tr th {\n",
       "        vertical-align: top;\n",
       "    }\n",
       "\n",
       "    .dataframe thead th {\n",
       "        text-align: right;\n",
       "    }\n",
       "</style>\n",
       "<table border=\"1\" class=\"dataframe\">\n",
       "  <thead>\n",
       "    <tr style=\"text-align: right;\">\n",
       "      <th></th>\n",
       "      <th>Temperaturas</th>\n",
       "      <th>Comprimento_onda</th>\n",
       "    </tr>\n",
       "  </thead>\n",
       "  <tbody>\n",
       "    <tr>\n",
       "      <th>0</th>\n",
       "      <td>3000</td>\n",
       "      <td>9.660000e-07</td>\n",
       "    </tr>\n",
       "    <tr>\n",
       "      <th>1</th>\n",
       "      <td>3500</td>\n",
       "      <td>8.280000e-07</td>\n",
       "    </tr>\n",
       "    <tr>\n",
       "      <th>2</th>\n",
       "      <td>4000</td>\n",
       "      <td>7.240000e-07</td>\n",
       "    </tr>\n",
       "    <tr>\n",
       "      <th>3</th>\n",
       "      <td>4500</td>\n",
       "      <td>6.440000e-07</td>\n",
       "    </tr>\n",
       "    <tr>\n",
       "      <th>4</th>\n",
       "      <td>5000</td>\n",
       "      <td>5.800000e-07</td>\n",
       "    </tr>\n",
       "    <tr>\n",
       "      <th>5</th>\n",
       "      <td>5500</td>\n",
       "      <td>5.270000e-07</td>\n",
       "    </tr>\n",
       "    <tr>\n",
       "      <th>6</th>\n",
       "      <td>5800</td>\n",
       "      <td>5.000000e-07</td>\n",
       "    </tr>\n",
       "  </tbody>\n",
       "</table>\n",
       "</div>"
      ],
      "text/plain": [
       "   Temperaturas  Comprimento_onda\n",
       "0          3000      9.660000e-07\n",
       "1          3500      8.280000e-07\n",
       "2          4000      7.240000e-07\n",
       "3          4500      6.440000e-07\n",
       "4          5000      5.800000e-07\n",
       "5          5500      5.270000e-07\n",
       "6          5800      5.000000e-07"
      ]
     },
     "execution_count": 2,
     "metadata": {},
     "output_type": "execute_result"
    }
   ],
   "source": [
    "temperaturas = np.array((3000, 3500, 4000, 4500, 5000, 5500, 5800))\n",
    "comprimentos_onda = np.array((0.966, 0.828, 0.724, 0.644, 0.580, 0.527, 0.500)) * (10**(-6))\n",
    "\n",
    "dados_lei_wein = pd.DataFrame({\n",
    "    'Temperaturas':temperaturas,\n",
    "    'Comprimento_onda':comprimentos_onda\n",
    "})\n",
    "\n",
    "dados_lei_wein"
   ]
  },
  {
   "cell_type": "markdown",
   "metadata": {},
   "source": [
    "Criando uma nova coluna efetuando o produto de $T.\\lambda_{max}$:"
   ]
  },
  {
   "cell_type": "code",
   "execution_count": 3,
   "metadata": {},
   "outputs": [
    {
     "data": {
      "text/html": [
       "<div>\n",
       "<style scoped>\n",
       "    .dataframe tbody tr th:only-of-type {\n",
       "        vertical-align: middle;\n",
       "    }\n",
       "\n",
       "    .dataframe tbody tr th {\n",
       "        vertical-align: top;\n",
       "    }\n",
       "\n",
       "    .dataframe thead th {\n",
       "        text-align: right;\n",
       "    }\n",
       "</style>\n",
       "<table border=\"1\" class=\"dataframe\">\n",
       "  <thead>\n",
       "    <tr style=\"text-align: right;\">\n",
       "      <th></th>\n",
       "      <th>Temperaturas</th>\n",
       "      <th>Comprimento_onda</th>\n",
       "      <th>b</th>\n",
       "    </tr>\n",
       "  </thead>\n",
       "  <tbody>\n",
       "    <tr>\n",
       "      <th>0</th>\n",
       "      <td>3000</td>\n",
       "      <td>9.660000e-07</td>\n",
       "      <td>0.002898</td>\n",
       "    </tr>\n",
       "    <tr>\n",
       "      <th>1</th>\n",
       "      <td>3500</td>\n",
       "      <td>8.280000e-07</td>\n",
       "      <td>0.002898</td>\n",
       "    </tr>\n",
       "    <tr>\n",
       "      <th>2</th>\n",
       "      <td>4000</td>\n",
       "      <td>7.240000e-07</td>\n",
       "      <td>0.002896</td>\n",
       "    </tr>\n",
       "    <tr>\n",
       "      <th>3</th>\n",
       "      <td>4500</td>\n",
       "      <td>6.440000e-07</td>\n",
       "      <td>0.002898</td>\n",
       "    </tr>\n",
       "    <tr>\n",
       "      <th>4</th>\n",
       "      <td>5000</td>\n",
       "      <td>5.800000e-07</td>\n",
       "      <td>0.002900</td>\n",
       "    </tr>\n",
       "    <tr>\n",
       "      <th>5</th>\n",
       "      <td>5500</td>\n",
       "      <td>5.270000e-07</td>\n",
       "      <td>0.002899</td>\n",
       "    </tr>\n",
       "    <tr>\n",
       "      <th>6</th>\n",
       "      <td>5800</td>\n",
       "      <td>5.000000e-07</td>\n",
       "      <td>0.002900</td>\n",
       "    </tr>\n",
       "  </tbody>\n",
       "</table>\n",
       "</div>"
      ],
      "text/plain": [
       "   Temperaturas  Comprimento_onda         b\n",
       "0          3000      9.660000e-07  0.002898\n",
       "1          3500      8.280000e-07  0.002898\n",
       "2          4000      7.240000e-07  0.002896\n",
       "3          4500      6.440000e-07  0.002898\n",
       "4          5000      5.800000e-07  0.002900\n",
       "5          5500      5.270000e-07  0.002899\n",
       "6          5800      5.000000e-07  0.002900"
      ]
     },
     "execution_count": 3,
     "metadata": {},
     "output_type": "execute_result"
    }
   ],
   "source": [
    "dados_lei_wein['b'] = dados_lei_wein.Temperaturas * dados_lei_wein.Comprimento_onda\n",
    "dados_lei_wein"
   ]
  },
  {
   "cell_type": "code",
   "execution_count": 5,
   "metadata": {},
   "outputs": [
    {
     "data": {
      "text/plain": [
       "mean    0.002898\n",
       "std     0.000001\n",
       "Name: b, dtype: float64"
      ]
     },
     "execution_count": 5,
     "metadata": {},
     "output_type": "execute_result"
    }
   ],
   "source": [
    "dados_lei_wein.describe().loc[['mean','std']]['b']"
   ]
  },
  {
   "cell_type": "markdown",
   "metadata": {},
   "source": [
    "Com este procedimento é possível verificar que a a constante de dispersão de Wien é aproximadamente $$ b \\approx 2.898\\pm0.1\\times10^{-3}T.m$$"
   ]
  },
  {
   "cell_type": "markdown",
   "metadata": {},
   "source": [
    "### 2.2) Medir a lei de Stefan\n",
    "\n",
    "Realizar várias medições de $R(\\lambda)$ em watts por metro quadrado e $T$ em kelvin\n",
    "$$R = \\sigma T^4, $$\n",
    "afim de verificar a equação de Stefan. "
   ]
  },
  {
   "cell_type": "code",
   "execution_count": 39,
   "metadata": {},
   "outputs": [
    {
     "data": {
      "text/html": [
       "<div>\n",
       "<style scoped>\n",
       "    .dataframe tbody tr th:only-of-type {\n",
       "        vertical-align: middle;\n",
       "    }\n",
       "\n",
       "    .dataframe tbody tr th {\n",
       "        vertical-align: top;\n",
       "    }\n",
       "\n",
       "    .dataframe thead th {\n",
       "        text-align: right;\n",
       "    }\n",
       "</style>\n",
       "<table border=\"1\" class=\"dataframe\">\n",
       "  <thead>\n",
       "    <tr style=\"text-align: right;\">\n",
       "      <th></th>\n",
       "      <th>Temperatura</th>\n",
       "      <th>Densidade_spectral</th>\n",
       "    </tr>\n",
       "  </thead>\n",
       "  <tbody>\n",
       "    <tr>\n",
       "      <th>0</th>\n",
       "      <td>30000000</td>\n",
       "      <td>0.00340</td>\n",
       "    </tr>\n",
       "    <tr>\n",
       "      <th>1</th>\n",
       "      <td>35000000</td>\n",
       "      <td>0.00676</td>\n",
       "    </tr>\n",
       "    <tr>\n",
       "      <th>2</th>\n",
       "      <td>40000000</td>\n",
       "      <td>0.01318</td>\n",
       "    </tr>\n",
       "    <tr>\n",
       "      <th>3</th>\n",
       "      <td>45000000</td>\n",
       "      <td>0.02374</td>\n",
       "    </tr>\n",
       "    <tr>\n",
       "      <th>4</th>\n",
       "      <td>50000000</td>\n",
       "      <td>0.04021</td>\n",
       "    </tr>\n",
       "    <tr>\n",
       "      <th>5</th>\n",
       "      <td>55000000</td>\n",
       "      <td>0.06476</td>\n",
       "    </tr>\n",
       "    <tr>\n",
       "      <th>6</th>\n",
       "      <td>58000000</td>\n",
       "      <td>0.08446</td>\n",
       "    </tr>\n",
       "  </tbody>\n",
       "</table>\n",
       "</div>"
      ],
      "text/plain": [
       "   Temperatura  Densidade_spectral\n",
       "0     30000000             0.00340\n",
       "1     35000000             0.00676\n",
       "2     40000000             0.01318\n",
       "3     45000000             0.02374\n",
       "4     50000000             0.04021\n",
       "5     55000000             0.06476\n",
       "6     58000000             0.08446"
      ]
     },
     "execution_count": 39,
     "metadata": {},
     "output_type": "execute_result"
    }
   ],
   "source": [
    "temperaturas = np.array((3000, 3500, 4000, 4500, 5000, 5500, 5800)) * (10**4)\n",
    "densidade_espectral = np.array((3.40, 6.76, 13.18, 23.74,\n",
    "                                40.21, 64.76, 84.46)) * ((10**6)/(10**(9)))\n",
    "\n",
    "dados_lei_stefan = pd.DataFrame({\n",
    "    'Temperatura' : temperaturas,\n",
    "    'Densidade_spectral' : densidade_espectral\n",
    "})\n",
    "\n",
    "dados_lei_stefan"
   ]
  },
  {
   "cell_type": "markdown",
   "metadata": {},
   "source": [
    "Realizando a razão entre a densidade espectral sob a temperatura elevada a quarta potência, temos:"
   ]
  },
  {
   "cell_type": "code",
   "execution_count": 40,
   "metadata": {},
   "outputs": [
    {
     "data": {
      "text/html": [
       "<div>\n",
       "<style scoped>\n",
       "    .dataframe tbody tr th:only-of-type {\n",
       "        vertical-align: middle;\n",
       "    }\n",
       "\n",
       "    .dataframe tbody tr th {\n",
       "        vertical-align: top;\n",
       "    }\n",
       "\n",
       "    .dataframe thead th {\n",
       "        text-align: right;\n",
       "    }\n",
       "</style>\n",
       "<table border=\"1\" class=\"dataframe\">\n",
       "  <thead>\n",
       "    <tr style=\"text-align: right;\">\n",
       "      <th></th>\n",
       "      <th>Temperatura</th>\n",
       "      <th>Densidade_spectral</th>\n",
       "      <th>sigma</th>\n",
       "    </tr>\n",
       "  </thead>\n",
       "  <tbody>\n",
       "    <tr>\n",
       "      <th>0</th>\n",
       "      <td>30000000</td>\n",
       "      <td>0.00340</td>\n",
       "      <td>1.133333e-10</td>\n",
       "    </tr>\n",
       "    <tr>\n",
       "      <th>1</th>\n",
       "      <td>35000000</td>\n",
       "      <td>0.00676</td>\n",
       "      <td>1.931429e-10</td>\n",
       "    </tr>\n",
       "    <tr>\n",
       "      <th>2</th>\n",
       "      <td>40000000</td>\n",
       "      <td>0.01318</td>\n",
       "      <td>3.295000e-10</td>\n",
       "    </tr>\n",
       "    <tr>\n",
       "      <th>3</th>\n",
       "      <td>45000000</td>\n",
       "      <td>0.02374</td>\n",
       "      <td>5.275556e-10</td>\n",
       "    </tr>\n",
       "    <tr>\n",
       "      <th>4</th>\n",
       "      <td>50000000</td>\n",
       "      <td>0.04021</td>\n",
       "      <td>8.042000e-10</td>\n",
       "    </tr>\n",
       "    <tr>\n",
       "      <th>5</th>\n",
       "      <td>55000000</td>\n",
       "      <td>0.06476</td>\n",
       "      <td>1.177455e-09</td>\n",
       "    </tr>\n",
       "    <tr>\n",
       "      <th>6</th>\n",
       "      <td>58000000</td>\n",
       "      <td>0.08446</td>\n",
       "      <td>1.456207e-09</td>\n",
       "    </tr>\n",
       "  </tbody>\n",
       "</table>\n",
       "</div>"
      ],
      "text/plain": [
       "   Temperatura  Densidade_spectral         sigma\n",
       "0     30000000             0.00340  1.133333e-10\n",
       "1     35000000             0.00676  1.931429e-10\n",
       "2     40000000             0.01318  3.295000e-10\n",
       "3     45000000             0.02374  5.275556e-10\n",
       "4     50000000             0.04021  8.042000e-10\n",
       "5     55000000             0.06476  1.177455e-09\n",
       "6     58000000             0.08446  1.456207e-09"
      ]
     },
     "execution_count": 40,
     "metadata": {},
     "output_type": "execute_result"
    }
   ],
   "source": [
    "dados_lei_stefan['sigma'] = dados_lei_stefan.Densidade_spectral / dados_lei_stefan.Temperatura\n",
    "dados_lei_stefan"
   ]
  },
  {
   "cell_type": "code",
   "execution_count": 41,
   "metadata": {},
   "outputs": [
    {
     "data": {
      "text/plain": [
       "mean    6.573419e-10\n",
       "std     5.108850e-10\n",
       "Name: sigma, dtype: float64"
      ]
     },
     "execution_count": 41,
     "metadata": {},
     "output_type": "execute_result"
    }
   ],
   "source": [
    "dados_lei_stefan.describe().loc[['mean','std']]['sigma']"
   ]
  }
 ],
 "metadata": {
  "kernelspec": {
   "display_name": "Python 3",
   "language": "python",
   "name": "python3"
  },
  "language_info": {
   "codemirror_mode": {
    "name": "ipython",
    "version": 3
   },
   "file_extension": ".py",
   "mimetype": "text/x-python",
   "name": "python",
   "nbconvert_exporter": "python",
   "pygments_lexer": "ipython3",
   "version": "3.7.6"
  }
 },
 "nbformat": 4,
 "nbformat_minor": 4
}
