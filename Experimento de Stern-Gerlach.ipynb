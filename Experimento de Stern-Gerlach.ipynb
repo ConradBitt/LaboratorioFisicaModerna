{
 "cells": [
  {
   "cell_type": "code",
   "execution_count": 56,
   "metadata": {},
   "outputs": [],
   "source": [
    "from matplotlib import pyplot as plt\n",
    "from PIL import Image\n",
    "\n",
    "experimento_stern_gerlach = './images/esquema_experimento_stern_gerlach.png'"
   ]
  },
  {
   "cell_type": "markdown",
   "metadata": {},
   "source": [
    "# Introdução \n",
    "\n",
    "<p>Dentre os experimentos e teorias cientificas que foram desenvolvidas durante o século $XX$ varias contribuiram para a mudança na história da física, por exemplo, radiação de Plank ou corpo negro, a teoria de Einstein-Debye, o atomo de Hidrogênio e ondas de matéria de de Broglie. Segundo <i>Sakurai e Napolitano</i> (p.21), um dos experimentos que sem sombra de dúvidas contribuiu substancialmente para essa mudança de perspectiva *clássica* para *quantica* foi o experimento de Stern Gerlach.</p>\n",
    "\n",
    "## O Experimento\n",
    "\n",
    "<p>Em $1922$, Stern e Gerlach mediram valores possíveis do momento de dipolo magnético de átomos de patra ($Ag$). Primeiramente os átomos de $Ag$ são aquecidos em um forno que possui um pequeno orifício pelo qual alguns atomos podem escapar. Como é mostrado abaixo. Estes átomos que escapam passam por um colimador e é, então, submetido a ação de um campo magnético <b>não uniforme</b> produzido por um par de polos, cujo um deles possui uma aresta pontiaguda.</p>\n",
    "\n",
    "<img src ='https://raw.githubusercontent.com/ConradBitt/LaboratorioFisicaModerna/master/images/esquema_experimento_stern_gerlach.png'>\n",
    "\n",
    "<p>A componente deste campo magnético $B_z$ aumenta gradualmente ao longo de $z$ enquanto as componentes restantes $B_x$ e $B_y$ permanecem constantes. Depois de atravessar este campo magnético os átomos de patra que foram lançados do colimador incidem numa placa coletora.</p>\n",
    "\n",
    "<p>A imagem abaixo mostra o efeito de $dB/dz$ sobre os momentos magnéticos com diferentes orientações. Além do torque, que produz apenas uma precessão do momento magnético em torno da direção do campo, existe uma força $F_z$ ao longo do eixo $z$ cujo sentido depende apenas do sinal de $\\mu_z$, já que a derivada $dB/dz$ é sempre positiva. Essa força <b>desvia os átomos de prata para cima ou para baixo </b> e esta deflexão é diretamente proporcional a taxa </p>\n",
    "\n",
    "<img src='https://raw.githubusercontent.com/ConradBitt/LaboratorioFisicaModerna/master/images/esquema_campo_magnetico.png'>\n",
    "\n"
   ]
  },
  {
   "cell_type": "code",
   "execution_count": 61,
   "metadata": {},
   "outputs": [],
   "source": [
    "#plt.figure(figsize=(9,4))\n",
    "#plt.axis('off')\n",
    "#exp_stern_gerlach = Image.open(experimento_stern_gerlach)\n",
    "#im = plt.imshow(exp_stern_gerlach)\n",
    "#im = im"
   ]
  },
  {
   "cell_type": "code",
   "execution_count": null,
   "metadata": {},
   "outputs": [],
   "source": []
  },
  {
   "cell_type": "code",
   "execution_count": null,
   "metadata": {},
   "outputs": [],
   "source": []
  }
 ],
 "metadata": {
  "kernelspec": {
   "display_name": "Python 3",
   "language": "python",
   "name": "python3"
  },
  "language_info": {
   "codemirror_mode": {
    "name": "ipython",
    "version": 3
   },
   "file_extension": ".py",
   "mimetype": "text/x-python",
   "name": "python",
   "nbconvert_exporter": "python",
   "pygments_lexer": "ipython3",
   "version": "3.7.6"
  }
 },
 "nbformat": 4,
 "nbformat_minor": 4
}
